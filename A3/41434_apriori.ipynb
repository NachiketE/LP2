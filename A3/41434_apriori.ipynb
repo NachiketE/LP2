{
  "nbformat": 4,
  "nbformat_minor": 0,
  "metadata": {
    "kernelspec": {
      "name": "python3",
      "display_name": "Python 3",
      "language": "python"
    },
    "language_info": {
      "name": "python",
      "version": "3.7.6",
      "mimetype": "text/x-python",
      "codemirror_mode": {
        "name": "ipython",
        "version": 3
      },
      "pygments_lexer": "ipython3",
      "nbconvert_exporter": "python",
      "file_extension": ".py"
    },
    "colab": {
      "name": "apriori.ipynb",
      "provenance": []
    }
  },
  "cells": [
    {
      "cell_type": "code",
      "metadata": {
        "id": "d3oy2EcNalHU",
        "colab_type": "code",
        "colab": {}
      },
      "source": [
        "import pandas as pd\n",
        "import itertools"
      ],
      "execution_count": 5,
      "outputs": []
    },
    {
      "cell_type": "code",
      "metadata": {
        "id": "s0kZs1AEbQ-D",
        "colab_type": "code",
        "colab": {
          "base_uri": "https://localhost:8080/",
          "height": 274
        },
        "outputId": "a992df20-e698-4734-eb60-40b980964c04"
      },
      "source": [
        "data = pd.read_csv('store_data.csv',header=None)\n",
        "data.head()\n"
      ],
      "execution_count": 6,
      "outputs": [
        {
          "output_type": "execute_result",
          "data": {
            "text/html": [
              "<div>\n",
              "<style scoped>\n",
              "    .dataframe tbody tr th:only-of-type {\n",
              "        vertical-align: middle;\n",
              "    }\n",
              "\n",
              "    .dataframe tbody tr th {\n",
              "        vertical-align: top;\n",
              "    }\n",
              "\n",
              "    .dataframe thead th {\n",
              "        text-align: right;\n",
              "    }\n",
              "</style>\n",
              "<table border=\"1\" class=\"dataframe\">\n",
              "  <thead>\n",
              "    <tr style=\"text-align: right;\">\n",
              "      <th></th>\n",
              "      <th>0</th>\n",
              "      <th>1</th>\n",
              "      <th>2</th>\n",
              "      <th>3</th>\n",
              "      <th>4</th>\n",
              "      <th>5</th>\n",
              "      <th>6</th>\n",
              "      <th>7</th>\n",
              "      <th>8</th>\n",
              "      <th>9</th>\n",
              "      <th>10</th>\n",
              "      <th>11</th>\n",
              "      <th>12</th>\n",
              "      <th>13</th>\n",
              "      <th>14</th>\n",
              "      <th>15</th>\n",
              "      <th>16</th>\n",
              "      <th>17</th>\n",
              "      <th>18</th>\n",
              "      <th>19</th>\n",
              "    </tr>\n",
              "  </thead>\n",
              "  <tbody>\n",
              "    <tr>\n",
              "      <th>0</th>\n",
              "      <td>shrimp</td>\n",
              "      <td>almonds</td>\n",
              "      <td>avocado</td>\n",
              "      <td>vegetables mix</td>\n",
              "      <td>green grapes</td>\n",
              "      <td>whole weat flour</td>\n",
              "      <td>yams</td>\n",
              "      <td>cottage cheese</td>\n",
              "      <td>energy drink</td>\n",
              "      <td>tomato juice</td>\n",
              "      <td>low fat yogurt</td>\n",
              "      <td>green tea</td>\n",
              "      <td>honey</td>\n",
              "      <td>salad</td>\n",
              "      <td>mineral water</td>\n",
              "      <td>salmon</td>\n",
              "      <td>antioxydant juice</td>\n",
              "      <td>frozen smoothie</td>\n",
              "      <td>spinach</td>\n",
              "      <td>olive oil</td>\n",
              "    </tr>\n",
              "    <tr>\n",
              "      <th>1</th>\n",
              "      <td>burgers</td>\n",
              "      <td>meatballs</td>\n",
              "      <td>eggs</td>\n",
              "      <td>NaN</td>\n",
              "      <td>NaN</td>\n",
              "      <td>NaN</td>\n",
              "      <td>NaN</td>\n",
              "      <td>NaN</td>\n",
              "      <td>NaN</td>\n",
              "      <td>NaN</td>\n",
              "      <td>NaN</td>\n",
              "      <td>NaN</td>\n",
              "      <td>NaN</td>\n",
              "      <td>NaN</td>\n",
              "      <td>NaN</td>\n",
              "      <td>NaN</td>\n",
              "      <td>NaN</td>\n",
              "      <td>NaN</td>\n",
              "      <td>NaN</td>\n",
              "      <td>NaN</td>\n",
              "    </tr>\n",
              "    <tr>\n",
              "      <th>2</th>\n",
              "      <td>chutney</td>\n",
              "      <td>NaN</td>\n",
              "      <td>NaN</td>\n",
              "      <td>NaN</td>\n",
              "      <td>NaN</td>\n",
              "      <td>NaN</td>\n",
              "      <td>NaN</td>\n",
              "      <td>NaN</td>\n",
              "      <td>NaN</td>\n",
              "      <td>NaN</td>\n",
              "      <td>NaN</td>\n",
              "      <td>NaN</td>\n",
              "      <td>NaN</td>\n",
              "      <td>NaN</td>\n",
              "      <td>NaN</td>\n",
              "      <td>NaN</td>\n",
              "      <td>NaN</td>\n",
              "      <td>NaN</td>\n",
              "      <td>NaN</td>\n",
              "      <td>NaN</td>\n",
              "    </tr>\n",
              "    <tr>\n",
              "      <th>3</th>\n",
              "      <td>turkey</td>\n",
              "      <td>avocado</td>\n",
              "      <td>NaN</td>\n",
              "      <td>NaN</td>\n",
              "      <td>NaN</td>\n",
              "      <td>NaN</td>\n",
              "      <td>NaN</td>\n",
              "      <td>NaN</td>\n",
              "      <td>NaN</td>\n",
              "      <td>NaN</td>\n",
              "      <td>NaN</td>\n",
              "      <td>NaN</td>\n",
              "      <td>NaN</td>\n",
              "      <td>NaN</td>\n",
              "      <td>NaN</td>\n",
              "      <td>NaN</td>\n",
              "      <td>NaN</td>\n",
              "      <td>NaN</td>\n",
              "      <td>NaN</td>\n",
              "      <td>NaN</td>\n",
              "    </tr>\n",
              "    <tr>\n",
              "      <th>4</th>\n",
              "      <td>mineral water</td>\n",
              "      <td>milk</td>\n",
              "      <td>energy bar</td>\n",
              "      <td>whole wheat rice</td>\n",
              "      <td>green tea</td>\n",
              "      <td>NaN</td>\n",
              "      <td>NaN</td>\n",
              "      <td>NaN</td>\n",
              "      <td>NaN</td>\n",
              "      <td>NaN</td>\n",
              "      <td>NaN</td>\n",
              "      <td>NaN</td>\n",
              "      <td>NaN</td>\n",
              "      <td>NaN</td>\n",
              "      <td>NaN</td>\n",
              "      <td>NaN</td>\n",
              "      <td>NaN</td>\n",
              "      <td>NaN</td>\n",
              "      <td>NaN</td>\n",
              "      <td>NaN</td>\n",
              "    </tr>\n",
              "  </tbody>\n",
              "</table>\n",
              "</div>"
            ],
            "text/plain": [
              "              0          1           2   ...               17       18         19\n",
              "0         shrimp    almonds     avocado  ...  frozen smoothie  spinach  olive oil\n",
              "1        burgers  meatballs        eggs  ...              NaN      NaN        NaN\n",
              "2        chutney        NaN         NaN  ...              NaN      NaN        NaN\n",
              "3         turkey    avocado         NaN  ...              NaN      NaN        NaN\n",
              "4  mineral water       milk  energy bar  ...              NaN      NaN        NaN\n",
              "\n",
              "[5 rows x 20 columns]"
            ]
          },
          "metadata": {
            "tags": []
          },
          "execution_count": 6
        }
      ]
    },
    {
      "cell_type": "code",
      "metadata": {
        "id": "z8pYYb2jbXTU",
        "colab_type": "code",
        "colab": {}
      },
      "source": [
        "minimum_support_count = 0.0045\n",
        "records = []\n",
        "for i in range(0, 20):\n",
        "    records.append([str(data.values[i,j]) for j in range(0, 4)])\n",
        "\n",
        "items = sorted([item for sublist in records for item in sublist if item != 'nan'])\n"
      ],
      "execution_count": 7,
      "outputs": []
    },
    {
      "cell_type": "code",
      "metadata": {
        "id": "VtDs46rAbbmS",
        "colab_type": "code",
        "colab": {}
      },
      "source": [
        "def stage_1(items, minimum_support_count):\n",
        "    c1 = {i:items.count(i) for i in items}\n",
        "    l1 = {}\n",
        "    for key, value in c1.items():\n",
        "        if value >= minimum_support_count:\n",
        "           l1[key] = value \n",
        "    \n",
        "    return c1, l1"
      ],
      "execution_count": 8,
      "outputs": []
    },
    {
      "cell_type": "code",
      "metadata": {
        "id": "hmQ3L6qnb2kb",
        "colab_type": "code",
        "colab": {}
      },
      "source": [
        "def stage_2(l1, records, minimum_support_count):\n",
        "    l1 = sorted(list(l1.keys()))\n",
        "    L1 = list(itertools.combinations(l1, 2))\n",
        "    c2 = {}\n",
        "    l2 = {}\n",
        "    for iter1 in L1:\n",
        "        count = 0\n",
        "        for iter2 in records:\n",
        "            if sublist(iter1, iter2):\n",
        "                count+=1\n",
        "        c2[iter1] = count\n",
        "    for key, value in c2.items():\n",
        "        if value >= minimum_support_count:\n",
        "            if check_subset_frequency(key, l1, 1):\n",
        "                l2[key] = value \n",
        "    \n",
        "    return c2, l2"
      ],
      "execution_count": 9,
      "outputs": []
    },
    {
      "cell_type": "code",
      "metadata": {
        "id": "LZiF8inkb68z",
        "colab_type": "code",
        "colab": {}
      },
      "source": [
        "def stage_3(l2, records, minimum_support_count):\n",
        "    l2 = list(l2.keys())\n",
        "    L2 = sorted(list(set([item for t in l2 for item in t])))\n",
        "    L2 = list(itertools.combinations(L2, 3))\n",
        "    c3 = {}\n",
        "    l3 = {}\n",
        "    for iter1 in L2:\n",
        "        count = 0\n",
        "        for iter2 in records:\n",
        "            if sublist(iter1, iter2):\n",
        "                count+=1\n",
        "        c3[iter1] = count\n",
        "    for key, value in c3.items():\n",
        "        if value >= minimum_support_count:\n",
        "            if check_subset_frequency(key, l2, 2):\n",
        "                l3[key] = value \n",
        "        \n",
        "    return c3, l3"
      ],
      "execution_count": 11,
      "outputs": []
    },
    {
      "cell_type": "code",
      "metadata": {
        "id": "0VQv75ngb9Gx",
        "colab_type": "code",
        "colab": {}
      },
      "source": [
        "def stage_4(l3, records, minimum_support_count):\n",
        "    l3 = list(l3.keys())\n",
        "    L3 = sorted(list(set([item for t in l3 for item in t])))\n",
        "    L3 = list(itertools.combinations(L3, 4))\n",
        "    c4 = {}\n",
        "    l4 = {}\n",
        "    for iter1 in L3:\n",
        "        count = 0\n",
        "        for iter2 in records:\n",
        "            if sublist(iter1, iter2):\n",
        "                count+=1\n",
        "        c4[iter1] = count\n",
        "    for key, value in c4.items():\n",
        "        if value >= minimum_support_count:\n",
        "            if check_subset_frequency(key, l3, 3):\n",
        "                l4[key] = value \n",
        "        \n",
        "    return c4, l4"
      ],
      "execution_count": 12,
      "outputs": []
    },
    {
      "cell_type": "code",
      "metadata": {
        "id": "x5paX9LzcB4d",
        "colab_type": "code",
        "colab": {}
      },
      "source": [
        "def sublist(lst1, lst2):\n",
        "    return set(lst1) <= set(lst2)"
      ],
      "execution_count": 13,
      "outputs": []
    },
    {
      "cell_type": "code",
      "metadata": {
        "id": "lppU9g1hcEle",
        "colab_type": "code",
        "colab": {}
      },
      "source": [
        "def check_subset_frequency(itemset, l, n):\n",
        "    if n>1:    \n",
        "        subsets = list(itertools.combinations(itemset, n))\n",
        "    else:\n",
        "        subsets = itemset\n",
        "    for iter1 in subsets:\n",
        "        if not iter1 in l:\n",
        "            return False\n",
        "    return True\n",
        "\n"
      ],
      "execution_count": 14,
      "outputs": []
    },
    {
      "cell_type": "code",
      "metadata": {
        "id": "btx9NWT2cGUy",
        "colab_type": "code",
        "colab": {}
      },
      "source": [
        "c1, l1 = stage_1(items, minimum_support_count)\n",
        "c2, l2 = stage_2(l1, records, minimum_support_count)\n",
        "c3, l3 = stage_3(l2, records, minimum_support_count)\n",
        "c4, l4 = stage_4(l3, records, minimum_support_count)\n",
        "\n",
        "itemlist = {**l1, **l2, **l3, **l4}"
      ],
      "execution_count": 15,
      "outputs": []
    },
    {
      "cell_type": "code",
      "metadata": {
        "id": "2Zw9n_5zcJtG",
        "colab_type": "code",
        "colab": {}
      },
      "source": [
        "def support_count(itemset, itemlist):\n",
        "    return itemlist[itemset]"
      ],
      "execution_count": 16,
      "outputs": []
    },
    {
      "cell_type": "code",
      "metadata": {
        "id": "zGofJPrNcMH9",
        "colab_type": "code",
        "colab": {
          "base_uri": "https://localhost:8080/",
          "height": 1000
        },
        "outputId": "f6ebe9da-7abc-461f-a46f-e062fc8aa048"
      },
      "source": [
        "sets = []\n",
        "for iter1 in list(l3.keys()):\n",
        "    subsets = list(itertools.combinations(iter1, 2))\n",
        "    sets.append(subsets)\n",
        "\n",
        "list_l3 = list(l3.keys())\n",
        "for i in range(0, len(list_l3)):\n",
        "    for iter1 in sets[i]:\n",
        "        a = iter1\n",
        "        b = set(list_l3[i]) - set(iter1)\n",
        "        confidence = (support_count(list_l3[i], itemlist)/support_count(iter1, itemlist))*100\n",
        "        print(\"Confidence{}->{} = \".format(a,b), confidence)"
      ],
      "execution_count": 17,
      "outputs": [
        {
          "output_type": "stream",
          "text": [
            "Confidence('almonds', 'avocado')->{'shrimp'} =  100.0\n",
            "Confidence('almonds', 'shrimp')->{'avocado'} =  100.0\n",
            "Confidence('avocado', 'shrimp')->{'almonds'} =  100.0\n",
            "Confidence('almonds', 'avocado')->{'vegetables mix'} =  100.0\n",
            "Confidence('almonds', 'vegetables mix')->{'avocado'} =  100.0\n",
            "Confidence('avocado', 'vegetables mix')->{'almonds'} =  100.0\n",
            "Confidence('almonds', 'shrimp')->{'vegetables mix'} =  100.0\n",
            "Confidence('almonds', 'vegetables mix')->{'shrimp'} =  100.0\n",
            "Confidence('shrimp', 'vegetables mix')->{'almonds'} =  100.0\n",
            "Confidence('avocado', 'shrimp')->{'vegetables mix'} =  100.0\n",
            "Confidence('avocado', 'vegetables mix')->{'shrimp'} =  100.0\n",
            "Confidence('shrimp', 'vegetables mix')->{'avocado'} =  100.0\n",
            "Confidence('burgers', 'eggs')->{'meatballs'} =  50.0\n",
            "Confidence('burgers', 'meatballs')->{'eggs'} =  100.0\n",
            "Confidence('eggs', 'meatballs')->{'burgers'} =  100.0\n",
            "Confidence('burgers', 'eggs')->{'mineral water'} =  50.0\n",
            "Confidence('burgers', 'mineral water')->{'eggs'} =  100.0\n",
            "Confidence('eggs', 'mineral water')->{'burgers'} =  100.0\n",
            "Confidence('burgers', 'eggs')->{'turkey'} =  50.0\n",
            "Confidence('burgers', 'turkey')->{'eggs'} =  100.0\n",
            "Confidence('eggs', 'turkey')->{'burgers'} =  50.0\n",
            "Confidence('burgers', 'mineral water')->{'turkey'} =  100.0\n",
            "Confidence('burgers', 'turkey')->{'mineral water'} =  100.0\n",
            "Confidence('mineral water', 'turkey')->{'burgers'} =  100.0\n",
            "Confidence('champagne', 'cookies')->{'spaghetti'} =  100.0\n",
            "Confidence('champagne', 'spaghetti')->{'cookies'} =  100.0\n",
            "Confidence('cookies', 'spaghetti')->{'champagne'} =  100.0\n",
            "Confidence('chicken', 'chocolate')->{'honey'} =  100.0\n",
            "Confidence('chicken', 'honey')->{'chocolate'} =  100.0\n",
            "Confidence('chocolate', 'honey')->{'chicken'} =  100.0\n",
            "Confidence('chicken', 'chocolate')->{'shrimp'} =  100.0\n",
            "Confidence('chicken', 'shrimp')->{'chocolate'} =  100.0\n",
            "Confidence('chocolate', 'shrimp')->{'chicken'} =  100.0\n",
            "Confidence('chicken', 'honey')->{'shrimp'} =  100.0\n",
            "Confidence('chicken', 'shrimp')->{'honey'} =  100.0\n",
            "Confidence('honey', 'shrimp')->{'chicken'} =  100.0\n",
            "Confidence('chocolate', 'honey')->{'shrimp'} =  100.0\n",
            "Confidence('chocolate', 'shrimp')->{'honey'} =  100.0\n",
            "Confidence('honey', 'shrimp')->{'chocolate'} =  100.0\n",
            "Confidence('eggs', 'mineral water')->{'turkey'} =  100.0\n",
            "Confidence('eggs', 'turkey')->{'mineral water'} =  50.0\n",
            "Confidence('mineral water', 'turkey')->{'eggs'} =  100.0\n",
            "Confidence('energy bar', 'milk')->{'mineral water'} =  100.0\n",
            "Confidence('energy bar', 'mineral water')->{'milk'} =  100.0\n",
            "Confidence('milk', 'mineral water')->{'energy bar'} =  100.0\n",
            "Confidence('energy bar', 'milk')->{'whole wheat rice'} =  100.0\n",
            "Confidence('energy bar', 'whole wheat rice')->{'milk'} =  100.0\n",
            "Confidence('milk', 'whole wheat rice')->{'energy bar'} =  100.0\n",
            "Confidence('energy bar', 'mineral water')->{'whole wheat rice'} =  100.0\n",
            "Confidence('energy bar', 'whole wheat rice')->{'mineral water'} =  100.0\n",
            "Confidence('mineral water', 'whole wheat rice')->{'energy bar'} =  100.0\n",
            "Confidence('french fries', 'honey')->{'meatballs'} =  100.0\n",
            "Confidence('french fries', 'meatballs')->{'honey'} =  100.0\n",
            "Confidence('honey', 'meatballs')->{'french fries'} =  100.0\n",
            "Confidence('french fries', 'honey')->{'milk'} =  100.0\n",
            "Confidence('french fries', 'milk')->{'honey'} =  100.0\n",
            "Confidence('honey', 'milk')->{'french fries'} =  100.0\n",
            "Confidence('french fries', 'meatballs')->{'milk'} =  100.0\n",
            "Confidence('french fries', 'milk')->{'meatballs'} =  100.0\n",
            "Confidence('meatballs', 'milk')->{'french fries'} =  100.0\n",
            "Confidence('fresh tuna', 'spaghetti')->{'tomatoes'} =  100.0\n",
            "Confidence('fresh tuna', 'tomatoes')->{'spaghetti'} =  100.0\n",
            "Confidence('spaghetti', 'tomatoes')->{'fresh tuna'} =  100.0\n",
            "Confidence('fresh tuna', 'spaghetti')->{'turkey'} =  100.0\n",
            "Confidence('fresh tuna', 'turkey')->{'spaghetti'} =  100.0\n",
            "Confidence('spaghetti', 'turkey')->{'fresh tuna'} =  100.0\n",
            "Confidence('fresh tuna', 'tomatoes')->{'turkey'} =  100.0\n",
            "Confidence('fresh tuna', 'turkey')->{'tomatoes'} =  100.0\n",
            "Confidence('tomatoes', 'turkey')->{'fresh tuna'} =  100.0\n",
            "Confidence('frozen vegetables', 'green tea')->{'spaghetti'} =  100.0\n",
            "Confidence('frozen vegetables', 'spaghetti')->{'green tea'} =  100.0\n",
            "Confidence('green tea', 'spaghetti')->{'frozen vegetables'} =  100.0\n",
            "Confidence('honey', 'meatballs')->{'milk'} =  100.0\n",
            "Confidence('honey', 'milk')->{'meatballs'} =  100.0\n",
            "Confidence('meatballs', 'milk')->{'honey'} =  100.0\n",
            "Confidence('light cream', 'shallot')->{'soup'} =  100.0\n",
            "Confidence('light cream', 'soup')->{'shallot'} =  100.0\n",
            "Confidence('shallot', 'soup')->{'light cream'} =  100.0\n",
            "Confidence('milk', 'mineral water')->{'whole wheat rice'} =  100.0\n",
            "Confidence('milk', 'whole wheat rice')->{'mineral water'} =  100.0\n",
            "Confidence('mineral water', 'whole wheat rice')->{'milk'} =  100.0\n",
            "Confidence('spaghetti', 'tomatoes')->{'turkey'} =  100.0\n",
            "Confidence('spaghetti', 'turkey')->{'tomatoes'} =  100.0\n",
            "Confidence('tomatoes', 'turkey')->{'spaghetti'} =  100.0\n"
          ],
          "name": "stdout"
        }
      ]
    },
    {
      "cell_type": "code",
      "metadata": {
        "id": "HOvMsEracSCZ",
        "colab_type": "code",
        "colab": {}
      },
      "source": [
        ""
      ],
      "execution_count": null,
      "outputs": []
    }
  ]
}